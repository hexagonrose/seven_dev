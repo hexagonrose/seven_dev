{
 "cells": [
  {
   "cell_type": "markdown",
   "metadata": {},
   "source": [
    "This is the test code for checking the speed of neighbor_list ase vs matscipy vs torch_geometric vs pymatgen"
   ]
  },
  {
   "cell_type": "code",
   "execution_count": 1,
   "metadata": {},
   "outputs": [
    {
     "name": "stderr",
     "output_type": "stream",
     "text": [
      "/home/hexagonrose/miniconda3/envs/mp/lib/python3.9/site-packages/e3nn/o3/_wigner.py:10: FutureWarning: You are using `torch.load` with `weights_only=False` (the current default value), which uses the default pickle module implicitly. It is possible to construct malicious pickle data which will execute arbitrary code during unpickling (See https://github.com/pytorch/pytorch/blob/main/SECURITY.md#untrusted-models for more details). In a future release, the default value for `weights_only` will be flipped to `True`. This limits the functions that could be executed during unpickling. Arbitrary objects will no longer be allowed to be loaded via this mode unless they are explicitly allowlisted by the user via `torch.serialization.add_safe_globals`. We recommend you start setting `weights_only=True` for any use case where you don't have full control of the loaded file. Please open an issue on GitHub for any issues related to this experimental feature.\n",
      "  _Jd, _W3j_flat, _W3j_indices = torch.load(os.path.join(os.path.dirname(__file__), 'constants.pt'))\n"
     ]
    }
   ],
   "source": [
    "from ase.io import read\n",
    "from ase.neighborlist import primitive_neighbor_list # ase\n",
    "from matscipy.neighbours import neighbour_list # matscipy\n",
    "# torch_geometric\n",
    "import torch\n",
    "from torch_geometric.data import Data\n",
    "from torch_geometric.transforms import RadiusGraph \n",
    "\n",
    "# pymatgen\n",
    "from pymatgen.core import Structure\n",
    "from pymatgen.analysis.local_env import CutOffDictNN\n",
    "from pymatgen.analysis.graphs import StructureGraph\n",
    "\n",
    "import sys\n",
    "import numpy as np\n",
    "from mace.data.neighborhood import get_neighborhood\n",
    "from sevenn.train.dataload import unlabeled_atoms_to_graph\n",
    "import matplotlib.pyplot as plt"
   ]
  },
  {
   "cell_type": "code",
   "execution_count": 3,
   "metadata": {},
   "outputs": [],
   "source": [
    "atoms = read('POSCAR_Li28La12Zr8O48')\n",
    "pos = atoms.get_positions()\n",
    "cell = np.array(atoms.get_cell())\n",
    "cutoff = 5.0\n",
    "pbc = atoms.get_pbc()"
   ]
  },
  {
   "cell_type": "markdown",
   "metadata": {},
   "source": [
    "## Time check\n",
    "---\n",
    "### ASE"
   ]
  },
  {
   "cell_type": "code",
   "execution_count": 4,
   "metadata": {},
   "outputs": [
    {
     "name": "stdout",
     "output_type": "stream",
     "text": [
      "128 ms ± 2.1 ms per loop (mean ± std. dev. of 7 runs, 10 loops each)\n"
     ]
    }
   ],
   "source": [
    "%%timeit -n 10\n",
    "# ase.neighborlist\n",
    "edge_src, edge_dst, edge_vec, shifts = primitive_neighbor_list(\n",
    "        'ijDS', pbc, cell, pos, cutoff, self_interaction=False\n",
    "    )"
   ]
  },
  {
   "cell_type": "markdown",
   "metadata": {},
   "source": [
    "### Matscipy"
   ]
  },
  {
   "cell_type": "code",
   "execution_count": 5,
   "metadata": {},
   "outputs": [
    {
     "name": "stdout",
     "output_type": "stream",
     "text": [
      "4.42 ms ± 146 µs per loop (mean ± std. dev. of 7 runs, 100 loops each)\n"
     ]
    }
   ],
   "source": [
    "%%timeit\n",
    "# matscipy.neighbours\n",
    "edge_src, edge_dst, edge_vec, shifts = neighbour_list(\n",
    "        quantities=\"ijDS\",\n",
    "        pbc=pbc,\n",
    "        cell=cell,\n",
    "        positions=pos,\n",
    "        cutoff=5.0,\n",
    "        # self_interaction=True,  # we want edges from atom to itself in different periodic images\n",
    "        # use_scaled_positions=False,  # positions are not scaled positions\n",
    "    )"
   ]
  },
  {
   "cell_type": "markdown",
   "metadata": {},
   "source": [
    "## Identical Graph?\n",
    "---"
   ]
  },
  {
   "cell_type": "markdown",
   "metadata": {},
   "source": [
    "### ASE"
   ]
  },
  {
   "cell_type": "code",
   "execution_count": 6,
   "metadata": {},
   "outputs": [],
   "source": [
    "edge_src_ase, edge_dst_ase, edge_vec_ase, shifts_ase = primitive_neighbor_list(\n",
    "        'ijDS', pbc, cell, pos, cutoff, self_interaction=False\n",
    "    )"
   ]
  },
  {
   "cell_type": "code",
   "execution_count": 15,
   "metadata": {},
   "outputs": [
    {
     "name": "stdout",
     "output_type": "stream",
     "text": [
      "[ 0  0  0 ... 95 95 95] 4288\n",
      "[60 62 63 ...  5  8 21] 4288\n",
      "[[-0.4581798  -4.04339437  0.36458977]\n",
      " [-2.57464063  0.4581798  -2.81083673]\n",
      " [-2.57464063 -0.4581798   3.54001627]\n",
      " ...\n",
      " [-1.26486532  2.22320973 -4.08024523]\n",
      " [ 0.55612672  2.22320973 -0.90481873]\n",
      " [ 1.8889394   0.15410094 -0.02657832]] 4288\n",
      "[[ 0  0 -1]\n",
      " [ 0  0 -1]\n",
      " [ 0  0 -1]\n",
      " ...\n",
      " [ 0  0  1]\n",
      " [ 0  0  1]\n",
      " [ 0  0  1]] 4288\n"
     ]
    }
   ],
   "source": [
    "print(edge_src_ase, len(edge_src_ase))\n",
    "print(edge_dst_ase, len(edge_dst_ase))\n",
    "print(edge_vec_ase, len(edge_vec_ase))\n",
    "print(shifts_ase, len(shifts_ase))"
   ]
  },
  {
   "cell_type": "markdown",
   "metadata": {},
   "source": [
    "### Matscipy"
   ]
  },
  {
   "cell_type": "code",
   "execution_count": 11,
   "metadata": {},
   "outputs": [],
   "source": [
    "edge_src_mat, edge_dst_mat, edge_vec_mat, shifts_mat = neighbour_list(\n",
    "        quantities=\"ijDS\",\n",
    "        pbc=pbc,\n",
    "        cell=cell,\n",
    "        positions=pos,\n",
    "        cutoff=5.0,\n",
    "        # self_interaction=True,  # we want edges from atom to itself in different periodic images\n",
    "        # use_scaled_positions=False,  # positions are not scaled positions\n",
    "    )"
   ]
  },
  {
   "cell_type": "code",
   "execution_count": 16,
   "metadata": {},
   "outputs": [
    {
     "name": "stdout",
     "output_type": "stream",
     "text": [
      "[ 0  0  0 ... 95 95 95] 4288\n",
      "[ 6  9 10 ... 49 66 89] 4288\n",
      "[[-4.21951352  2.39852148  0.        ]\n",
      " [-2.39852148 -4.21951352  0.        ]\n",
      " [-2.39852148 -2.39852148  3.1754265 ]\n",
      " ...\n",
      " [ 2.4964684   0.57833684  1.906018  ]\n",
      " [ 4.31059092 -1.26880967  0.24680685]\n",
      " [ 0.95834441  0.95834441  4.54121554]] 4288\n",
      "[[ 0  0 -1]\n",
      " [ 0  0 -1]\n",
      " [ 0  0 -1]\n",
      " ...\n",
      " [ 0  1  1]\n",
      " [ 0  1  1]\n",
      " [ 0  1  1]] 4288\n"
     ]
    }
   ],
   "source": [
    "print(edge_src_mat, len(edge_src_mat))\n",
    "print(edge_dst_mat, len(edge_dst_mat))\n",
    "print(edge_vec_mat, len(edge_vec_mat))\n",
    "print(shifts_mat, len(shifts_mat))"
   ]
  },
  {
   "cell_type": "markdown",
   "metadata": {},
   "source": [
    "### Torch_geometric"
   ]
  },
  {
   "cell_type": "code",
   "execution_count": 34,
   "metadata": {},
   "outputs": [
    {
     "ename": "ImportError",
     "evalue": "'radius_graph' requires 'torch-cluster'",
     "output_type": "error",
     "traceback": [
      "\u001b[0;31m---------------------------------------------------------------------------\u001b[0m",
      "\u001b[0;31mImportError\u001b[0m                               Traceback (most recent call last)",
      "Cell \u001b[0;32mIn[34], line 3\u001b[0m\n\u001b[1;32m      1\u001b[0m pos_tensor \u001b[38;5;241m=\u001b[39m torch\u001b[38;5;241m.\u001b[39mtensor(pos, dtype\u001b[38;5;241m=\u001b[39mtorch\u001b[38;5;241m.\u001b[39mfloat)\n\u001b[1;32m      2\u001b[0m data \u001b[38;5;241m=\u001b[39m Data(pos\u001b[38;5;241m=\u001b[39mpos_tensor)\n\u001b[0;32m----> 3\u001b[0m data \u001b[38;5;241m=\u001b[39m \u001b[43mRadiusGraph\u001b[49m\u001b[43m(\u001b[49m\u001b[38;5;241;43m5.0\u001b[39;49m\u001b[43m)\u001b[49m\u001b[43m(\u001b[49m\u001b[43mdata\u001b[49m\u001b[43m)\u001b[49m\n",
      "File \u001b[0;32m~/miniconda3/envs/mp/lib/python3.9/site-packages/torch_geometric/transforms/base_transform.py:32\u001b[0m, in \u001b[0;36mBaseTransform.__call__\u001b[0;34m(self, data)\u001b[0m\n\u001b[1;32m     30\u001b[0m \u001b[38;5;28;01mdef\u001b[39;00m \u001b[38;5;21m__call__\u001b[39m(\u001b[38;5;28mself\u001b[39m, data: Any) \u001b[38;5;241m-\u001b[39m\u001b[38;5;241m>\u001b[39m Any:\n\u001b[1;32m     31\u001b[0m     \u001b[38;5;66;03m# Shallow-copy the data so that we prevent in-place data modification.\u001b[39;00m\n\u001b[0;32m---> 32\u001b[0m     \u001b[38;5;28;01mreturn\u001b[39;00m \u001b[38;5;28;43mself\u001b[39;49m\u001b[38;5;241;43m.\u001b[39;49m\u001b[43mforward\u001b[49m\u001b[43m(\u001b[49m\u001b[43mcopy\u001b[49m\u001b[38;5;241;43m.\u001b[39;49m\u001b[43mcopy\u001b[49m\u001b[43m(\u001b[49m\u001b[43mdata\u001b[49m\u001b[43m)\u001b[49m\u001b[43m)\u001b[49m\n",
      "File \u001b[0;32m~/miniconda3/envs/mp/lib/python3.9/site-packages/torch_geometric/transforms/radius_graph.py:43\u001b[0m, in \u001b[0;36mRadiusGraph.forward\u001b[0;34m(self, data)\u001b[0m\n\u001b[1;32m     40\u001b[0m \u001b[38;5;28;01mdef\u001b[39;00m \u001b[38;5;21mforward\u001b[39m(\u001b[38;5;28mself\u001b[39m, data: Data) \u001b[38;5;241m-\u001b[39m\u001b[38;5;241m>\u001b[39m Data:\n\u001b[1;32m     41\u001b[0m     \u001b[38;5;28;01massert\u001b[39;00m data\u001b[38;5;241m.\u001b[39mpos \u001b[38;5;129;01mis\u001b[39;00m \u001b[38;5;129;01mnot\u001b[39;00m \u001b[38;5;28;01mNone\u001b[39;00m\n\u001b[0;32m---> 43\u001b[0m     data\u001b[38;5;241m.\u001b[39medge_index \u001b[38;5;241m=\u001b[39m \u001b[43mtorch_geometric\u001b[49m\u001b[38;5;241;43m.\u001b[39;49m\u001b[43mnn\u001b[49m\u001b[38;5;241;43m.\u001b[39;49m\u001b[43mradius_graph\u001b[49m\u001b[43m(\u001b[49m\n\u001b[1;32m     44\u001b[0m \u001b[43m        \u001b[49m\u001b[43mdata\u001b[49m\u001b[38;5;241;43m.\u001b[39;49m\u001b[43mpos\u001b[49m\u001b[43m,\u001b[49m\n\u001b[1;32m     45\u001b[0m \u001b[43m        \u001b[49m\u001b[38;5;28;43mself\u001b[39;49m\u001b[38;5;241;43m.\u001b[39;49m\u001b[43mr\u001b[49m\u001b[43m,\u001b[49m\n\u001b[1;32m     46\u001b[0m \u001b[43m        \u001b[49m\u001b[43mdata\u001b[49m\u001b[38;5;241;43m.\u001b[39;49m\u001b[43mbatch\u001b[49m\u001b[43m,\u001b[49m\n\u001b[1;32m     47\u001b[0m \u001b[43m        \u001b[49m\u001b[38;5;28;43mself\u001b[39;49m\u001b[38;5;241;43m.\u001b[39;49m\u001b[43mloop\u001b[49m\u001b[43m,\u001b[49m\n\u001b[1;32m     48\u001b[0m \u001b[43m        \u001b[49m\u001b[43mmax_num_neighbors\u001b[49m\u001b[38;5;241;43m=\u001b[39;49m\u001b[38;5;28;43mself\u001b[39;49m\u001b[38;5;241;43m.\u001b[39;49m\u001b[43mmax_num_neighbors\u001b[49m\u001b[43m,\u001b[49m\n\u001b[1;32m     49\u001b[0m \u001b[43m        \u001b[49m\u001b[43mflow\u001b[49m\u001b[38;5;241;43m=\u001b[39;49m\u001b[38;5;28;43mself\u001b[39;49m\u001b[38;5;241;43m.\u001b[39;49m\u001b[43mflow\u001b[49m\u001b[43m,\u001b[49m\n\u001b[1;32m     50\u001b[0m \u001b[43m        \u001b[49m\u001b[43mnum_workers\u001b[49m\u001b[38;5;241;43m=\u001b[39;49m\u001b[38;5;28;43mself\u001b[39;49m\u001b[38;5;241;43m.\u001b[39;49m\u001b[43mnum_workers\u001b[49m\u001b[43m,\u001b[49m\n\u001b[1;32m     51\u001b[0m \u001b[43m    \u001b[49m\u001b[43m)\u001b[49m\n\u001b[1;32m     52\u001b[0m     data\u001b[38;5;241m.\u001b[39medge_attr \u001b[38;5;241m=\u001b[39m \u001b[38;5;28;01mNone\u001b[39;00m\n\u001b[1;32m     54\u001b[0m     \u001b[38;5;28;01mreturn\u001b[39;00m data\n",
      "File \u001b[0;32m~/miniconda3/envs/mp/lib/python3.9/site-packages/torch_geometric/nn/pool/__init__.py:293\u001b[0m, in \u001b[0;36mradius_graph\u001b[0;34m(x, r, batch, loop, max_num_neighbors, flow, num_workers, batch_size)\u001b[0m\n\u001b[1;32m    290\u001b[0m     batch \u001b[38;5;241m=\u001b[39m batch\u001b[38;5;241m.\u001b[39mto(x\u001b[38;5;241m.\u001b[39mdevice)\n\u001b[1;32m    292\u001b[0m \u001b[38;5;28;01mif\u001b[39;00m \u001b[38;5;129;01mnot\u001b[39;00m torch_geometric\u001b[38;5;241m.\u001b[39mtyping\u001b[38;5;241m.\u001b[39mWITH_TORCH_CLUSTER_BATCH_SIZE:\n\u001b[0;32m--> 293\u001b[0m     \u001b[38;5;28;01mreturn\u001b[39;00m \u001b[43mtorch_cluster\u001b[49m\u001b[38;5;241;43m.\u001b[39;49m\u001b[43mradius_graph\u001b[49m(x, r, batch, loop, max_num_neighbors,\n\u001b[1;32m    294\u001b[0m                                       flow, num_workers)\n\u001b[1;32m    295\u001b[0m \u001b[38;5;28;01mreturn\u001b[39;00m torch_cluster\u001b[38;5;241m.\u001b[39mradius_graph(x, r, batch, loop, max_num_neighbors,\n\u001b[1;32m    296\u001b[0m                                   flow, num_workers, batch_size)\n",
      "File \u001b[0;32m~/miniconda3/envs/mp/lib/python3.9/site-packages/torch_geometric/typing.py:104\u001b[0m, in \u001b[0;36mTorchCluster.__getattr__\u001b[0;34m(self, key)\u001b[0m\n\u001b[1;32m    103\u001b[0m \u001b[38;5;28;01mdef\u001b[39;00m \u001b[38;5;21m__getattr__\u001b[39m(\u001b[38;5;28mself\u001b[39m, key: \u001b[38;5;28mstr\u001b[39m) \u001b[38;5;241m-\u001b[39m\u001b[38;5;241m>\u001b[39m Any:\n\u001b[0;32m--> 104\u001b[0m     \u001b[38;5;28;01mraise\u001b[39;00m \u001b[38;5;167;01mImportError\u001b[39;00m(\u001b[38;5;124mf\u001b[39m\u001b[38;5;124m\"\u001b[39m\u001b[38;5;124m'\u001b[39m\u001b[38;5;132;01m{\u001b[39;00mkey\u001b[38;5;132;01m}\u001b[39;00m\u001b[38;5;124m'\u001b[39m\u001b[38;5;124m requires \u001b[39m\u001b[38;5;124m'\u001b[39m\u001b[38;5;124mtorch-cluster\u001b[39m\u001b[38;5;124m'\u001b[39m\u001b[38;5;124m\"\u001b[39m)\n",
      "\u001b[0;31mImportError\u001b[0m: 'radius_graph' requires 'torch-cluster'"
     ]
    }
   ],
   "source": [
    "pos_tensor = torch.tensor(pos, dtype=torch.float)\n",
    "data = Data(pos=pos_tensor)\n",
    "data = RadiusGraph(5.0)(data)"
   ]
  },
  {
   "cell_type": "code",
   "execution_count": 33,
   "metadata": {},
   "outputs": [
    {
     "ename": "ValueError",
     "evalue": "not enough values to unpack (expected 2, got 1)",
     "output_type": "error",
     "traceback": [
      "\u001b[0;31m---------------------------------------------------------------------------\u001b[0m",
      "\u001b[0;31mValueError\u001b[0m                                Traceback (most recent call last)",
      "Cell \u001b[0;32mIn[33], line 5\u001b[0m\n\u001b[1;32m      2\u001b[0m cutoff \u001b[38;5;241m=\u001b[39m \u001b[38;5;241m5.0\u001b[39m\n\u001b[1;32m      4\u001b[0m \u001b[38;5;66;03m# Use a cutoff-based nearest neighbors strategy\u001b[39;00m\n\u001b[0;32m----> 5\u001b[0m nn_strategy \u001b[38;5;241m=\u001b[39m \u001b[43mCutOffDictNN\u001b[49m\u001b[43m(\u001b[49m\u001b[43mcut_off_dict\u001b[49m\u001b[38;5;241;43m=\u001b[39;49m\u001b[43m{\u001b[49m\u001b[38;5;124;43m\"\u001b[39;49m\u001b[38;5;124;43mLi\u001b[39;49m\u001b[38;5;124;43m\"\u001b[39;49m\u001b[43m:\u001b[49m\u001b[43m \u001b[49m\u001b[43mcutoff\u001b[49m\u001b[43m,\u001b[49m\u001b[43m \u001b[49m\u001b[38;5;124;43m\"\u001b[39;49m\u001b[38;5;124;43mLa\u001b[39;49m\u001b[38;5;124;43m\"\u001b[39;49m\u001b[43m:\u001b[49m\u001b[43m \u001b[49m\u001b[43mcutoff\u001b[49m\u001b[43m,\u001b[49m\u001b[43m \u001b[49m\u001b[38;5;124;43m\"\u001b[39;49m\u001b[38;5;124;43mZr\u001b[39;49m\u001b[38;5;124;43m\"\u001b[39;49m\u001b[43m:\u001b[49m\u001b[43m \u001b[49m\u001b[43mcutoff\u001b[49m\u001b[43m,\u001b[49m\u001b[43m \u001b[49m\u001b[38;5;124;43m\"\u001b[39;49m\u001b[38;5;124;43mO\u001b[39;49m\u001b[38;5;124;43m\"\u001b[39;49m\u001b[43m:\u001b[49m\u001b[43m \u001b[49m\u001b[43mcutoff\u001b[49m\u001b[43m}\u001b[49m\u001b[43m)\u001b[49m\n\u001b[1;32m      6\u001b[0m \u001b[38;5;66;03m# structure_graph = StructureGraph.with_local_env_strategy(structure, nn_strategy)\u001b[39;00m\n\u001b[1;32m      7\u001b[0m \n\u001b[1;32m      8\u001b[0m \u001b[38;5;66;03m# Extract edges (source, destination) and edge vectors\u001b[39;00m\n\u001b[0;32m   (...)\u001b[0m\n\u001b[1;32m     16\u001b[0m \n\u001b[1;32m     17\u001b[0m \u001b[38;5;66;03m# print(\"Pymatgen edges:\", len(edge_src))\u001b[39;00m\n",
      "File \u001b[0;32m~/miniconda3/envs/mp/lib/python3.9/site-packages/pymatgen/analysis/local_env.py:4168\u001b[0m, in \u001b[0;36mCutOffDictNN.__init__\u001b[0;34m(self, cut_off_dict)\u001b[0m\n\u001b[1;32m   4166\u001b[0m \u001b[38;5;28mself\u001b[39m\u001b[38;5;241m.\u001b[39m_max_dist \u001b[38;5;241m=\u001b[39m \u001b[38;5;241m0.0\u001b[39m\n\u001b[1;32m   4167\u001b[0m lookup_dict: \u001b[38;5;28mdict\u001b[39m[\u001b[38;5;28mstr\u001b[39m, \u001b[38;5;28mdict\u001b[39m[\u001b[38;5;28mstr\u001b[39m, \u001b[38;5;28mfloat\u001b[39m]] \u001b[38;5;241m=\u001b[39m defaultdict(\u001b[38;5;28mdict\u001b[39m)\n\u001b[0;32m-> 4168\u001b[0m \u001b[38;5;28;01mfor\u001b[39;00m (sp1, sp2), dist \u001b[38;5;129;01min\u001b[39;00m \u001b[38;5;28mself\u001b[39m\u001b[38;5;241m.\u001b[39mcut_off_dict\u001b[38;5;241m.\u001b[39mitems():\n\u001b[1;32m   4169\u001b[0m     lookup_dict[sp1][sp2] \u001b[38;5;241m=\u001b[39m dist\n\u001b[1;32m   4170\u001b[0m     lookup_dict[sp2][sp1] \u001b[38;5;241m=\u001b[39m dist\n",
      "\u001b[0;31mValueError\u001b[0m: not enough values to unpack (expected 2, got 1)"
     ]
    }
   ],
   "source": [
    "structure = Structure.from_file(\"POSCAR_Li28La12Zr8O48\")\n",
    "cutoff = 5.0\n",
    "\n",
    "# Use a cutoff-based nearest neighbors strategy\n",
    "nn_strategy = CutOffDictNN(cut_off_dict={\"Li\": cutoff, \"La\": cutoff, \"Zr\": cutoff, \"O\": cutoff})\n",
    "# structure_graph = StructureGraph.with_local_env_strategy(structure, nn_strategy)\n",
    "\n",
    "# Extract edges (source, destination) and edge vectors\n",
    "# edges = structure_graph.graph.edges(data=True)\n",
    "# edge_src, edge_dst, edge_vec = [], [], []\n",
    "\n",
    "# for u, v, d in edges:\n",
    "#     edge_src.append(u)\n",
    "#     edge_dst.append(v)\n",
    "#     edge_vec.append(d[\"to_jimage\"])  # Fractional lattice vector\n",
    "\n",
    "# print(\"Pymatgen edges:\", len(edge_src))"
   ]
  },
  {
   "cell_type": "code",
   "execution_count": 20,
   "metadata": {},
   "outputs": [
    {
     "name": "stdout",
     "output_type": "stream",
     "text": [
      "The graphs from ASE and matscipy are different.\n"
     ]
    }
   ],
   "source": [
    "import numpy as np\n",
    "\n",
    "# Assuming edge_src_ase, edge_dst_ase, edge_vec_ase, shifts_ase\n",
    "# are from ASE and similarly for matscipy\n",
    "\n",
    "# Combine source and destination into edge pairs\n",
    "edges_ase = np.array(list(zip(edge_src_ase, edge_dst_ase)))\n",
    "edges_matscipy = np.array(list(zip(edge_src_mat, edge_dst_mat)))\n",
    "\n",
    "# Sort the edges for consistent ordering\n",
    "sorted_edges_ase = edges_ase[np.lexsort((edges_ase[:, 1], edges_ase[:, 0]))]\n",
    "sorted_edges_matscipy = edges_matscipy[np.lexsort((edges_matscipy[:, 1], edges_matscipy[:, 0]))]\n",
    "\n",
    "# Compare edges\n",
    "edges_equal = np.array_equal(sorted_edges_ase, sorted_edges_matscipy)\n",
    "\n",
    "# Compare edge vectors\n",
    "sorted_vec_ase = np.array(edge_vec_ase)[np.argsort(edge_src_ase)]\n",
    "sorted_vec_matscipy = np.array(edge_vec_mat)[np.argsort(edge_src_mat)]\n",
    "edge_vec_equal = np.allclose(sorted_vec_ase, sorted_vec_matscipy, atol=1e-6)\n",
    "\n",
    "# Compare shifts\n",
    "sorted_shifts_ase = np.array(shifts_ase)[np.argsort(edge_src_ase)]\n",
    "sorted_shifts_matscipy = np.array(shifts_mat)[np.argsort(edge_src_mat)]\n",
    "shifts_equal = np.array_equal(sorted_shifts_ase, sorted_shifts_matscipy)\n",
    "\n",
    "# Final result\n",
    "if edges_equal and edge_vec_equal and shifts_equal:\n",
    "    print(\"The graphs from ASE and matscipy are identical!\")\n",
    "else:\n",
    "    print(\"The graphs from ASE and matscipy are different.\")\n"
   ]
  },
  {
   "cell_type": "code",
   "execution_count": 23,
   "metadata": {},
   "outputs": [
    {
     "data": {
      "text/plain": [
       "array([[ 0,  4],\n",
       "       [ 0,  5],\n",
       "       [ 0,  6],\n",
       "       ...,\n",
       "       [95, 89],\n",
       "       [95, 91],\n",
       "       [95, 92]])"
      ]
     },
     "execution_count": 23,
     "metadata": {},
     "output_type": "execute_result"
    }
   ],
   "source": [
    "sorted_edges_ase"
   ]
  },
  {
   "cell_type": "code",
   "execution_count": 24,
   "metadata": {},
   "outputs": [
    {
     "data": {
      "text/plain": [
       "array([[ 0,  4],\n",
       "       [ 0,  5],\n",
       "       [ 0,  6],\n",
       "       ...,\n",
       "       [95, 89],\n",
       "       [95, 91],\n",
       "       [95, 92]], dtype=int32)"
      ]
     },
     "execution_count": 24,
     "metadata": {},
     "output_type": "execute_result"
    }
   ],
   "source": [
    "sorted_edges_matscipy"
   ]
  },
  {
   "cell_type": "code",
   "execution_count": null,
   "metadata": {},
   "outputs": [],
   "source": []
  }
 ],
 "metadata": {
  "kernelspec": {
   "display_name": "mp",
   "language": "python",
   "name": "python3"
  },
  "language_info": {
   "codemirror_mode": {
    "name": "ipython",
    "version": 3
   },
   "file_extension": ".py",
   "mimetype": "text/x-python",
   "name": "python",
   "nbconvert_exporter": "python",
   "pygments_lexer": "ipython3",
   "version": "3.9.19"
  }
 },
 "nbformat": 4,
 "nbformat_minor": 2
}
